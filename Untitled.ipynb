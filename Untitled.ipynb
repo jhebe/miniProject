{
 "cells": [
  {
   "cell_type": "code",
   "execution_count": 1,
   "metadata": {},
   "outputs": [],
   "source": [
    "import torch\n",
    "import torch.nn as nn\n",
    "import torch.optim as optim\n",
    "from torch.optim import lr_scheduler\n",
    "from torch.autograd import Variable\n",
    "import numpy as np\n",
    "import torchvision\n",
    "from torchvision import datasets, models, transforms\n",
    "import matplotlib.pyplot as plt\n",
    "import time\n",
    "import os\n",
    "import copy\n",
    "import mnist\n",
    "use_gpu = torch.cuda.is_available()\n",
    "use_gpu\n",
    "bsize = 2\n",
    "ntrain = None\n",
    "ntest = None"
   ]
  },
  {
   "cell_type": "code",
   "execution_count": 2,
   "metadata": {},
   "outputs": [],
   "source": [
    "data = {'train': list(zip(mnist.train_images()[0:ntrain],mnist.train_labels()[0:ntrain])),\n",
    "        'test': list(zip(mnist.test_images()[0:ntest],mnist.test_labels()[0:ntest]))\n",
    "       }\n",
    "\n",
    "\n",
    "dataloaders = {x: torch.utils.data.DataLoader(data[x], batch_size=bsize,\n",
    "                                             shuffle=True)\n",
    "              for x in ['train', 'test']\n",
    "              }\n",
    "\n",
    "dataiter = {x: iter(dataloaders[x])\n",
    "           for x in ['train', 'test']\n",
    "           }"
   ]
  },
  {
   "cell_type": "code",
   "execution_count": 3,
   "metadata": {},
   "outputs": [],
   "source": [
    "import matplotlib.pyplot as plt\n",
    "def imshow(inp, title=None):\n",
    "    \"\"\"Imshow for Tensor.\"\"\"\n",
    "    inp = inp.numpy().transpose((1, 2, 0))\n",
    "    mean = np.array([0.485, 0.456, 0.406])\n",
    "    std = np.array([0.229, 0.224, 0.225])\n",
    "    inp = std * inp + mean\n",
    "    inp = np.clip(inp, 0, 1)\n",
    "    plt.imshow(inp)\n",
    "    plt.grid(False)\n",
    "    if title is not None:\n",
    "        plt.title(title)\n",
    "    plt.pause(0.001)  # pause a bit so that plots are updated\n"
   ]
  },
  {
   "cell_type": "code",
   "execution_count": 4,
   "metadata": {},
   "outputs": [
    {
     "data": {
      "text/plain": [
       "512"
      ]
     },
     "execution_count": 4,
     "metadata": {},
     "output_type": "execute_result"
    }
   ],
   "source": [
    "res = torchvision.models.resnet18(pretrained = True).cuda()\n",
    "num_ftrs = res.fc.in_features\n",
    "num_ftrs"
   ]
  },
  {
   "cell_type": "code",
   "execution_count": 5,
   "metadata": {},
   "outputs": [],
   "source": [
    "# def train_model(model, criterion, optimizer, scheduler, num_epochs=25):\n",
    "#     since = time.time()\n",
    "\n",
    "#     best_model_wts = copy.deepcopy(model.state_dict())\n",
    "#     best_acc = 0.0\n",
    "\n",
    "#     for epoch in range(num_epochs):\n",
    "#         print('Epoch {}/{}'.format(epoch, num_epochs - 1))\n",
    "#         print('-' * 10)\n",
    "\n",
    "#         # Each epoch has a training and validation phase\n",
    "#         for phase in ['train', 'test']:\n",
    "#             if phase == 'train':\n",
    "#                 scheduler.step()\n",
    "#                 model.train(True)  # Set model to training mode\n",
    "#             else:\n",
    "#                 model.train(False)  # Set model to evaluate mode\n",
    "\n",
    "#             running_loss = 0.0\n",
    "#             running_corrects = 0\n",
    "\n",
    "#             # Iterate over data.\n",
    "#             for data in dataloaders[phase]:\n",
    "#                 # get the inputs\n",
    "#                 inputs, labels = data\n",
    "#                 inputs = torch.from_numpy(np.kron(inputs.numpy(),np.ones((8,8)))).unsqueeze(1).expand(bsize,3,224,224)\n",
    "#                 labels = labels.type(torch.LongTensor)\n",
    "#                 inputs = inputs.type(torch.FloatTensor)\n",
    "#                 #print(type(labels))\n",
    "#                 # wrap them in Variable\n",
    "#                 if use_gpu:\n",
    "#                     inputs = Variable(inputs.cuda())\n",
    "#                     labels = Variable(labels.cuda())\n",
    "#                 else:\n",
    "#                     inputs, labels = Variable(inputs), Variable(labels)\n",
    "\n",
    "#                 # zero the parameter gradients\n",
    "#                 optimizer.zero_grad()\n",
    "\n",
    "#                 # forward\n",
    "#                 outputs = model(inputs)\n",
    "#                 _, preds = torch.max(outputs.data, 1)\n",
    "#                 loss = criterion(outputs, labels)\n",
    "\n",
    "#                 # backward + optimize only if in training phase\n",
    "#                 if phase == 'train':\n",
    "#                     loss.backward()\n",
    "#                     optimizer.step()\n",
    "\n",
    "#                 # statistics\n",
    "#                 running_loss += loss.data[0] * inputs.size(0)\n",
    "#                 running_corrects += torch.sum(preds == labels.data)\n",
    "\n",
    "#             epoch_loss = running_loss / dataset_sizes[phase]\n",
    "#             epoch_acc = running_corrects / dataset_sizes[phase]\n",
    "\n",
    "#             print('{} Loss: {:.4f} Acc: {:.4f}'.format(\n",
    "#                 phase, epoch_loss, epoch_acc))\n",
    "\n",
    "#             # deep copy the model\n",
    "#             if phase == 'test' and epoch_acc > best_acc:\n",
    "#                 best_acc = epoch_acc\n",
    "#                 best_model_wts = copy.deepcopy(model.state_dict())\n",
    "\n",
    "#         print()\n",
    "\n",
    "#     time_elapsed = time.time() - since\n",
    "#     print('Training complete in {:.0f}m {:.0f}s'.format(\n",
    "#         time_elapsed // 60, time_elapsed % 60))\n",
    "#     print('Best val Acc: {:4f}'.format(best_acc))\n",
    "\n",
    "#     # load best model weights\n",
    "#     model.load_state_dict(best_model_wts)\n",
    "#     return model"
   ]
  },
  {
   "cell_type": "code",
   "execution_count": 6,
   "metadata": {},
   "outputs": [],
   "source": [
    "# if use_gpu:\n",
    "#     res = res.cuda()\n",
    "\n",
    "# criterion = nn.CrossEntropyLoss()\n",
    "\n",
    "# Observe that all parameters are being optimized\n",
    "# optimizer_ft = optim.SGD(res.parameters(), lr=0.001, momentum=0.9)\n",
    "\n",
    "# Decay LR by a factor of 0.1 every 7 epochs\n",
    "# exp_lr_scheduler = lr_scheduler.StepLR(optimizer_ft, step_size=7, gamma=0.1)"
   ]
  },
  {
   "cell_type": "code",
   "execution_count": 7,
   "metadata": {},
   "outputs": [],
   "source": [
    "# dataset_sizes = {x: len(data[x]) for x in ['train', 'test']}\n",
    "# class_names = ['%d' % i for i in range(10)]"
   ]
  },
  {
   "cell_type": "code",
   "execution_count": 8,
   "metadata": {
    "scrolled": true
   },
   "outputs": [],
   "source": [
    "#res = train_model(res, criterion, optimizer_ft, exp_lr_scheduler,\n",
    "              #         num_epochs=25)"
   ]
  },
  {
   "cell_type": "code",
   "execution_count": 9,
   "metadata": {},
   "outputs": [],
   "source": [
    "def visualize_model(model, num_images=6):\n",
    "    images_so_far = 0\n",
    "    fig = plt.figure()\n",
    "\n",
    "    for i, data in enumerate(dataloaders['test']):\n",
    "        inputs, labels = data\n",
    "        inputs = torch.from_numpy(np.kron(inputs.numpy(),np.ones((8,8)))).unsqueeze(1).expand(bsize,3,224,224)\n",
    "        labels = labels.type(torch.LongTensor)\n",
    "        inputs = inputs.type(torch.FloatTensor)\n",
    "        if use_gpu:\n",
    "            inputs, labels = Variable(inputs.cuda()), Variable(labels.cuda())\n",
    "        else:\n",
    "            inputs, labels = Variable(inputs), Variable(labels)\n",
    "\n",
    "        outputs = model(inputs)\n",
    "        _, preds = torch.max(outputs.data, 1)\n",
    "\n",
    "        for j in range(inputs.size()[0]):\n",
    "            images_so_far += 1\n",
    "            ax = plt.subplot(num_images//2, 2, images_so_far)\n",
    "            ax.axis('off')\n",
    "            ax.set_title('predicted: {}'.format(class_names[preds[j]]))\n",
    "            imshow(inputs.cpu().data[j])\n",
    "\n",
    "            if images_so_far == num_images:\n",
    "                return"
   ]
  },
  {
   "cell_type": "code",
   "execution_count": 10,
   "metadata": {},
   "outputs": [
    {
     "name": "stdout",
     "output_type": "stream",
     "text": [
      "train features size:(60000, 512)\tlabels size:(60000,)\n",
      "val features size:(10000, 512)\tlabels size:(10000,)\n"
     ]
    }
   ],
   "source": [
    "modules = list(res.children())[:-1]\n",
    "resnet18_feature = nn.Sequential(*modules)\n",
    "\n",
    "features_train=[]\n",
    "features_val=[]\n",
    "classes_train=[]\n",
    "classes_val=[]\n",
    "for data in ['train','test']:\n",
    "    for i,(inputs,labels) in enumerate(dataloaders[data]):\n",
    "        inputs = torch.from_numpy(np.kron(inputs.numpy(),np.ones((8,8)))).unsqueeze(1).expand(bsize,3,224,224)\n",
    "        labels = labels.type(torch.LongTensor)\n",
    "        inputs = inputs.type(torch.FloatTensor)\n",
    "        img=Variable(inputs).cuda()\n",
    "        out=resnet18_feature.forward(img)\n",
    "        out=out.view(-1,512).cpu().data.numpy()\n",
    "        labels=labels.numpy()\n",
    "        if data=='train':\n",
    "            features_train.append(out)\n",
    "            classes_train.append(labels)\n",
    "        else:\n",
    "            features_val.append(out)\n",
    "            classes_val.append(labels)\n",
    "features_train=np.vstack(features_train)\n",
    "classes_train=np.hstack(classes_train)\n",
    "features_val=np.vstack(features_val)\n",
    "classes_val=np.hstack(classes_val)\n",
    "\n",
    "print('train features size:{}\\tlabels size:{}'.format(features_train.shape,classes_train.shape))\n",
    "print('val features size:{}\\tlabels size:{}'.format(features_val.shape,classes_val.shape))"
   ]
  },
  {
   "cell_type": "code",
   "execution_count": null,
   "metadata": {},
   "outputs": [],
   "source": [
    "import skcuda.linalg as linalg\n",
    "import pycuda.gpuarray as gpuarray\n",
    "from skcuda.pca import PCA as cuPCA\n",
    "pca = cuPCA(n_components = 2 )\n",
    "X_gpu = gpuarray.GPUArray((60000, 512), np.float64, order = 'F')\n",
    "X_gpu.set(feature_train)\n",
    "T_gpu = pca.fit_transform(X_gpu)\n",
    "\n"
   ]
  },
  {
   "cell_type": "code",
   "execution_count": null,
   "metadata": {},
   "outputs": [],
   "source": [
    "import seaborn\n",
    "from matplotlib.ticker import NullFormatter\n",
    "from sklearn.decomposition import PCA\n",
    "from sklearn.manifold import Isomap,MDS,TSNE,LocallyLinearEmbedding,SpectralEmbedding\n",
    "\n",
    "LLE_dict=dict(zip(['LLE', 'LTSA', 'Hessian LLE', 'Modified LLE'],\n",
    "                    ['standard', 'ltsa', 'hessian', 'modified']))\n",
    "methods=['LLE', 'LTSA', 'Hessian LLE', 'Modified LLE','Isomap','MDS','TSNE','PCA']\n",
    "\n",
    "fig_features=plt.figure(1, figsize=(20,10))\n",
    "fig_features.suptitle('Manifold Learning for ResNet Features')\n",
    "\n",
    "for i,method in enumerate(methods):\n",
    "    print('{} starts......'.format(method))\n",
    "    if method in LLE_dict.keys():\n",
    "        manifold=LocallyLinearEmbedding(n_neighbors=6,method=LLE_dict[method],eigen_solver='dense')\n",
    "    elif method=='MDS':\n",
    "        manifold=MDS(n_init=1,max_iter=100)\n",
    "    elif method=='PCA':\n",
    "        exec('manifold={}(n_components=2)'.format(method))\n",
    "    elif method=='TSNE':\n",
    "        exec('manifold={}(n_components=2,init=\"pca\")'.format(method))\n",
    "    else:\n",
    "        exec('manifold={}(n_neighbors=6)'.format(method))\n",
    "    features_2D=manifold.fit_transform(features_train)\n",
    "    np.save('features_2d_{}'.format(method),features_2D)\n",
    "    \n",
    "    ax=fig_features.add_subplot(241+i)\n",
    "    for i in range(10):\n",
    "        ax.scatter(features_2D[np.where(classes_train==i),0],features_2D[np.where(classes_train==i),1],s=5,label='%d' % i)\n",
    "    ax.legend(loc='upper right',prop={'size':8})\n",
    "    ax.set_title(method)\n",
    "    ax.xaxis.set_major_formatter(NullFormatter())\n",
    "    ax.yaxis.set_major_formatter(NullFormatter())\n",
    "    ax.axis('tight')\n",
    "    \n",
    "# fig_features.savefig('Manifold_of_ResNet.png')"
   ]
  },
  {
   "cell_type": "code",
   "execution_count": null,
   "metadata": {},
   "outputs": [],
   "source": [
    "inputs = torch.from_numpy(np.kron(inputs[0].numpy(),np.ones((8,8)))).unsqueeze(0).unsqueeze(1).expand(bsize,3,224,224)\n",
    "print(inputs.size())"
   ]
  },
  {
   "cell_type": "code",
   "execution_count": null,
   "metadata": {},
   "outputs": [],
   "source": [
    "inputs = Variable(inputs.type(torch.FloatTensor))\n",
    "labels = Variable(labels.type(torch.LongTensor))\n",
    "outputs = res(inputs)"
   ]
  },
  {
   "cell_type": "code",
   "execution_count": null,
   "metadata": {},
   "outputs": [],
   "source": [
    "outputs"
   ]
  },
  {
   "cell_type": "code",
   "execution_count": null,
   "metadata": {},
   "outputs": [],
   "source": [
    "outputs.view(-1,1000)"
   ]
  },
  {
   "cell_type": "code",
   "execution_count": null,
   "metadata": {},
   "outputs": [],
   "source": []
  },
  {
   "cell_type": "code",
   "execution_count": null,
   "metadata": {},
   "outputs": [],
   "source": [
    "out=resnet18_feature.forward(inputs)"
   ]
  },
  {
   "cell_type": "code",
   "execution_count": null,
   "metadata": {},
   "outputs": [],
   "source": [
    "out"
   ]
  },
  {
   "cell_type": "code",
   "execution_count": null,
   "metadata": {},
   "outputs": [],
   "source": [
    "out=out.view(-1,512).cpu().data.numpy()"
   ]
  },
  {
   "cell_type": "code",
   "execution_count": null,
   "metadata": {},
   "outputs": [],
   "source": [
    "out"
   ]
  },
  {
   "cell_type": "code",
   "execution_count": null,
   "metadata": {},
   "outputs": [],
   "source": []
  }
 ],
 "metadata": {
  "kernelspec": {
   "display_name": "Python 3",
   "language": "python",
   "name": "python3"
  },
  "language_info": {
   "codemirror_mode": {
    "name": "ipython",
    "version": 3
   },
   "file_extension": ".py",
   "mimetype": "text/x-python",
   "name": "python",
   "nbconvert_exporter": "python",
   "pygments_lexer": "ipython3",
   "version": "3.5.2"
  }
 },
 "nbformat": 4,
 "nbformat_minor": 2
}
